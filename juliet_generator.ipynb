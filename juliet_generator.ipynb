{
 "cells": [
  {
   "cell_type": "code",
   "execution_count": null,
   "metadata": {
    "collapsed": false
   },
   "outputs": [],
   "source": [
    "# babi version\n",
    "import os\n",
    "import numpy as np\n",
    "import random\n",
    "import string\n",
    "from cases_babi import *\n",
    "def run(form='train',ver=1.1,data_range=100,max_dummies=10,max_entities=20):\n",
    "    out = []\n",
    "    answers=[]\n",
    "    lvl1 = [1.0]\n",
    "    lvl2 = [2.0,3.0]\n",
    "    lvl3 = [2.1,2.2,3.1,3.2]\n",
    "    lvl4 = [2.3,2.4,3.3,3.4]\n",
    "    training_set = [1.0,1.1,1.2,1.3,1.4,2.0,2.1,2.2,2.3,2.4,3.0,3.1,3.2,3.3,3.4]\n",
    "    query=0\n",
    "    if form=='train':\n",
    "        epoch = 10000\n",
    "    elif form=='valid':\n",
    "        epoch = 300\n",
    "    else:\n",
    "        epoch = 1000\n",
    "    for i in range(epoch):\n",
    "        if ver==1:\n",
    "            this_ver = 1.0\n",
    "            string = 'qa1_single-supporting-fact_'\n",
    "        elif ver==2:\n",
    "            idx = np.random.randint(0,len(lvl2))\n",
    "            this_ver = lvl2[idx]\n",
    "            string = 'qa2_two-supporting-facts_'\n",
    "        elif ver==3:\n",
    "            idx = np.random.randint(0,len(lvl3))\n",
    "            this_ver = lvl3[idx]\n",
    "            string = 'qa3_three-supporting-facts_'\n",
    "        elif ver==4:\n",
    "            idx = np.random.randint(0,len(lvl4))\n",
    "            this_ver = lvl4[idx]\n",
    "            string = 'qa4_two-arg-relations_'\n",
    "        else:\n",
    "            this_ver = ver\n",
    "        if form=='train':\n",
    "            idx = np.random.randint(0,len(training_set))\n",
    "            this_ver = training_set[idx]\n",
    "        l,q,a = case(num=i,ver=this_ver,data_range=data_range,max_dummies=max_dummies,max_entities=max_entities)            \n",
    "        query += q+1\n",
    "        query+=1\n",
    "        tmp = []\n",
    "        l_lines = l.split('\\n')\n",
    "        for i,line in enumerate(l_lines):\n",
    "            tmp.append(str(i+1)+\" \"+line)\n",
    "        l = '\\n'.join(tmp)\n",
    "        out.append(l)\n",
    "            \n",
    "    out_str = \"\\n\".join(out)\n",
    "    f = open('simpletest_babi/'+string+form+'.txt','w')\n",
    "#     f = open('simpletest/'+form+'/small_simpletest_'+str(ver)+'.txt','w')\n",
    "    f.write(out_str)\n",
    "    f.close()"
   ]
  },
  {
   "cell_type": "code",
   "execution_count": 1,
   "metadata": {
    "collapsed": true
   },
   "outputs": [],
   "source": [
    "# newer version\n",
    "import os\n",
    "import numpy as np\n",
    "import random\n",
    "import string\n",
    "from cases import *\n",
    "def run(form,ver,data_range=100,max_dummies=10,max_entities=20):\n",
    "    out = []\n",
    "    answers=[]\n",
    "    lvl1 = [1.0]\n",
    "    lvl2 = [2.0,3.0]\n",
    "    lvl3 = [2.1,2.2,3.1,3.2]\n",
    "    lvl4 = [2.3,2.4,3.3,3.4]\n",
    "    training_set = [1.0,1.1,1.2,1.3,1.4,2.0,2.1,2.2,2.3,2.4,3.0,3.1,3.2,3.3,3.4]\n",
    "    query=0\n",
    "    if form=='train':\n",
    "        epoch = 100000        \n",
    "    elif form=='valid':\n",
    "        epoch = 300\n",
    "    else:\n",
    "        epoch = 1000\n",
    "    for i in range(epoch):\n",
    "        if form=='train':\n",
    "            idx = np.random.randint(0,len(training_set))\n",
    "            this_ver = training_set[idx]\n",
    "        elif ver==1:\n",
    "            this_ver = 1.0\n",
    "        elif ver==2:\n",
    "            idx = np.random.randint(0,len(lvl2))\n",
    "            this_ver = lvl2[idx]\n",
    "        elif ver==3:\n",
    "            idx = np.random.randint(0,len(lvl3))\n",
    "            this_ver = lvl3[idx]\n",
    "        elif ver==4:\n",
    "            idx = np.random.randint(0,len(lvl4))\n",
    "            this_ver = lvl4[idx]\n",
    "        else:\n",
    "            this_ver = ver\n",
    "        l,q,a = case(num=i,ver=this_ver,data_range=data_range,max_dummies=max_dummies,max_entities=max_entities)            \n",
    "        query += q+1\n",
    "        answers.append(str(query)+\":=:\"+str(a))\n",
    "        query+=1\n",
    "        out.append(l)\n",
    "    out_str = \"\\n\".join(out)\n",
    "    ans_str = \"\\n\".join(answers)\n",
    "    \n",
    "    if form=='train':\n",
    "        f = open('simpletest/'+form+'/training_'+str(data_range)+'.txt','w')\n",
    "        g = open('simpletest/'+form+'/training_'+str(data_range)+'_labels.txt','w')\n",
    "    else:\n",
    "        f = open('simpletest/'+form+'/test_'+str(ver)+\"_\"+str(data_range)+'.txt','w')\n",
    "        g = open('simpletest/'+form+'/test_'+str(ver)+\"_\"+str(data_range)+'_labels.txt','w')        \n",
    "    f.write(out_str)\n",
    "    f.close()\n",
    "    g.write(ans_str)\n",
    "    g.close()"
   ]
  },
  {
   "cell_type": "code",
   "execution_count": 2,
   "metadata": {
    "collapsed": false
   },
   "outputs": [],
   "source": [
    "# lvl1\n",
    "for i in range(4):\n",
    "    ver=i+1\n",
    "    run(form='train',ver=ver,data_range=100,max_dummies=4,max_entities=10)\n",
    "    # run(form='valid',ver=ver,data_range=10,max_dummies=4,max_entities=10)\n",
    "#     run(form='test',ver=ver,data_range=100,max_dummies=4,max_entities=10)"
   ]
  },
  {
   "cell_type": "code",
   "execution_count": null,
   "metadata": {
    "collapsed": true
   },
   "outputs": [],
   "source": []
  },
  {
   "cell_type": "code",
   "execution_count": null,
   "metadata": {
    "collapsed": true
   },
   "outputs": [],
   "source": []
  },
  {
   "cell_type": "markdown",
   "metadata": {},
   "source": [
    "### [Type 5] POTENTIAL FLAW: possible buffer overflow if source is larger than data"
   ]
  }
 ],
 "metadata": {
  "kernelspec": {
   "display_name": "Python [Root]",
   "language": "python",
   "name": "Python [Root]"
  },
  "language_info": {
   "codemirror_mode": {
    "name": "ipython",
    "version": 2
   },
   "file_extension": ".py",
   "mimetype": "text/x-python",
   "name": "python",
   "nbconvert_exporter": "python",
   "pygments_lexer": "ipython2",
   "version": "2.7.12"
  }
 },
 "nbformat": 4,
 "nbformat_minor": 0
}
